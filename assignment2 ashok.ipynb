{
 "cells": [
  {
   "cell_type": "code",
   "execution_count": 2,
   "metadata": {},
   "outputs": [
    {
     "data": {
      "text/plain": [
       "190"
      ]
     },
     "execution_count": 2,
     "metadata": {},
     "output_type": "execute_result"
    }
   ],
   "source": [
    "# Task 1.1\n",
    "def my_reduce(func,seq):\n",
    "    first=seq[0]\n",
    "    for i  in seq[1:]:\n",
    "        first=func(first,i)\n",
    "    return first\n",
    "\n",
    "def do_sum(x, y): \n",
    "    return x+y\n",
    "\n",
    "seq=range(20)\n",
    "my_reduce(do_sum,seq)"
   ]
  },
  {
   "cell_type": "code",
   "execution_count": 4,
   "metadata": {},
   "outputs": [
    {
     "name": "stdout",
     "output_type": "stream",
     "text": [
      "0\n",
      "2\n",
      "4\n",
      "6\n",
      "8\n",
      "10\n",
      "12\n",
      "14\n",
      "16\n",
      "18\n",
      "20\n",
      "22\n",
      "24\n",
      "26\n",
      "28\n"
     ]
    }
   ],
   "source": [
    "# Task 1.2\n",
    "def my_filter(func,lis):\n",
    "    first=[]\n",
    "    for i in lis:\n",
    "        first=func(i)\n",
    "    return first\n",
    "            \n",
    "def is_even(lis):\n",
    "       if lis % 2==0 :\n",
    "            print (lis)\n",
    "           # return True\n",
    "seq=range(30)\n",
    "my_filter(is_even,seq)"
   ]
  },
  {
   "cell_type": "code",
   "execution_count": 78,
   "metadata": {},
   "outputs": [
    {
     "name": "stdout",
     "output_type": "stream",
     "text": [
      "['A', 'C', 'A', 'D', 'G', 'I', 'L', 'D']\n",
      "['x', 'xx', 'xxx', 'xxxx', 'y', 'yy', 'yyy', 'yyyy', 'z', 'zz', 'zzz', 'zzzz']\n",
      "[[2], [3], [4], [3], [4], [5], [4], [5], [6]]\n",
      "[[2, 3, 4, 5], [3, 4, 5, 6], [4, 5, 6, 7], [5, 6, 7, 8]]\n",
      "[(1, 1), (2, 1), (3, 1), (1, 2), (2, 2), (3, 2), (1, 3), (2, 3), (3, 3)]\n"
     ]
    }
   ],
   "source": [
    "#2.Implement List comprehensions to produce the following lists.\n",
    "\n",
    "\n",
    "x=[ i for i in 'ACADGILD']\n",
    "print (x)\n",
    "y=[ i*j for i in 'xyz' for j in range(1,5)]\n",
    "print(y)\n",
    "z=[ [i+j] for i in range(2,5) for j in range(3)]\n",
    "print(z)\n",
    "\n",
    "k=[ [i+j for j in range(4)] for i in range(2,6)]\n",
    "print(k)\n",
    "\n",
    "m=[(j,i) for i in range(1,4) for j in range(1,4)]\n",
    "print(m)\n"
   ]
  },
  {
   "cell_type": "code",
   "execution_count": 8,
   "metadata": {},
   "outputs": [
    {
     "name": "stdout",
     "output_type": "stream",
     "text": [
      "area of triangle is 240.0\n"
     ]
    }
   ],
   "source": [
    "#Task 2:\n",
    "class Triangle:\n",
    "           def __init__(self , s , x , y , z):\n",
    "            self.s = s\n",
    "            self.x = x\n",
    "            self.y = y\n",
    "            self.z = z\n",
    "    \n",
    "class area(Triangle):\n",
    "        def __init__(self , s ,x , y , z):            \n",
    "            \n",
    "            super().__init__(s,x,y,z)\n",
    "            \n",
    "        def calc_area(self):\n",
    "            area =  (self.s *(self.s-self.x)*(self.s-self.y)*(self.s-self.z))*0.5\n",
    "            print(\"area of triangle is {}\" .format(area))\n",
    "area = area(8,2,6,3)\n",
    "area.calc_area()"
   ]
  },
  {
   "cell_type": "code",
   "execution_count": 10,
   "metadata": {},
   "outputs": [
    {
     "name": "stdout",
     "output_type": "stream",
     "text": [
      "['Ranjith', 'pranuthi']\n"
     ]
    }
   ],
   "source": [
    "#1.2 Write a function filter_long_words() that takes a list of words and an integer n and returns the list of words that are longer than n.#\n",
    "def filter_long_words(list,n):\n",
    "    flist=[]\n",
    "    for i in list:\n",
    "            if len(i) > n:\n",
    "                flist.append(i)\n",
    "    return flist \n",
    "\n",
    "long_words=filter_long_words([\"Ashok\",\"Ramuni\",\"Ranjith\",\"pranuthi\",\"namika\"],6)\n",
    "print(long_words)\n",
    "           \n",
    "    "
   ]
  },
  {
   "cell_type": "code",
   "execution_count": 11,
   "metadata": {},
   "outputs": [
    {
     "name": "stdout",
     "output_type": "stream",
     "text": [
      "[5, 3, 6]\n"
     ]
    }
   ],
   "source": [
    "#2.1 Write a Python program using function concept that maps list of words into a list of integers representing the lengths of the corresponding words.\n",
    "\n",
    "def func(list):\n",
    "    flist=[]\n",
    "    for i in list:\n",
    "        flist.append(len(i))\n",
    "    return flist\n",
    "\n",
    "lenght_of_words=func( [\"Ashok\",\"Dad\",\"Ramuni\"])\n",
    "print(lenght_of_words)\n",
    "        \n"
   ]
  },
  {
   "cell_type": "code",
   "execution_count": 76,
   "metadata": {},
   "outputs": [
    {
     "data": {
      "text/plain": [
       "True"
      ]
     },
     "execution_count": 76,
     "metadata": {},
     "output_type": "execute_result"
    }
   ],
   "source": [
    "\n",
    "def vowel(x):\n",
    "    if x in [\"a\",\"e\",\"i\",\"o\",\"u\"]:\n",
    "        return True \n",
    "    else :\n",
    "        return False\n",
    "\n",
    "x=\"e\"\n",
    "vowel(x)"
   ]
  },
  {
   "cell_type": "code",
   "execution_count": null,
   "metadata": {},
   "outputs": [],
   "source": []
  }
 ],
 "metadata": {
  "kernelspec": {
   "display_name": "Python 3",
   "language": "python",
   "name": "python3"
  },
  "language_info": {
   "codemirror_mode": {
    "name": "ipython",
    "version": 3
   },
   "file_extension": ".py",
   "mimetype": "text/x-python",
   "name": "python",
   "nbconvert_exporter": "python",
   "pygments_lexer": "ipython3",
   "version": "3.7.4"
  }
 },
 "nbformat": 4,
 "nbformat_minor": 2
}
